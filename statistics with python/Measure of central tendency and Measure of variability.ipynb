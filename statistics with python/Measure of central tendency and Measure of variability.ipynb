{
 "cells": [
  {
   "cell_type": "code",
   "execution_count": 3,
   "id": "92149dbe",
   "metadata": {},
   "outputs": [
    {
     "name": "stdout",
     "output_type": "stream",
     "text": [
      "The average of list values is :2\n"
     ]
    }
   ],
   "source": [
    "## Python code to demonstrate the working of mean()\n",
    "\n",
    "\n",
    "import statistics\n",
    "\n",
    "l = [1,2,3,3,2,2,2,1]\n",
    "\n",
    "# use mean function to calculate avg of the list\n",
    "\n",
    "\n",
    "print(\"The average of list values is :\",end = \"\")\n",
    "print(statistics.mean(l))"
   ]
  },
  {
   "cell_type": "code",
   "execution_count": 5,
   "id": "dbf51574",
   "metadata": {},
   "outputs": [
    {
     "name": "stdout",
     "output_type": "stream",
     "text": [
      "Median of data-set1 is 5\n",
      "Median of data-set2 is 5.9\n",
      "Median of data-set3 is 2\n",
      "Median of data-set4 is -5\n",
      "Median of data-set5 is 0.0\n"
     ]
    }
   ],
   "source": [
    "## Python code to demonstrate the working of median()\n",
    "\n",
    "from statistics import median\n",
    "\n",
    "from fractions import Fraction as fr\n",
    "\n",
    "# tuple of positive integer numbers\n",
    "data1 = (2,3,4,5,7,9,11)\n",
    "\n",
    "#tuple of floating numbers\n",
    "data2 = (2.4,5.1,6.7,8.9)\n",
    "\n",
    "#tuple of fractional numbers\n",
    "data3 = (fr(1,2),fr(44,12),fr(10,3),fr(2,3))\n",
    "\n",
    "# tuple of a set of negative integers\n",
    "data4 = (-5,-1,-12,-19,-3)\n",
    "\n",
    "#tuple of set of positive and negative integers\n",
    "data5 = (-1,-2,-3,-4,4,3,2,1)\n",
    "\n",
    "# Printing the median of above datasets\n",
    "\n",
    "print(\"Median of data-set1 is % s\" % median(data1))\n",
    "print(\"Median of data-set2 is % s\" % median(data2))\n",
    "print(\"Median of data-set3 is % s\" % median(data3))\n",
    "print(\"Median of data-set4 is % s\" % median(data4))\n",
    "print(\"Median of data-set5 is % s\" % median(data5))\n"
   ]
  },
  {
   "cell_type": "code",
   "execution_count": 9,
   "id": "90d2b92b",
   "metadata": {},
   "outputs": [
    {
     "name": "stdout",
     "output_type": "stream",
     "text": [
      "Median of the dataset: 3.5\n",
      "Low median of the set is: 3\n",
      "High median of the set1 is: 4\n"
     ]
    }
   ],
   "source": [
    "## Python code to demonstrate the working of median_low()\n",
    "\n",
    "import statistics\n",
    "\n",
    "#simple list of a set of integers\n",
    "\n",
    "set1 = [1,3,3,4,5,7]\n",
    "\n",
    "# Print median of the dataset\n",
    "print(\"Median of the dataset:\",statistics.median(set1))\n",
    "\n",
    "#Print low median of the dataset\n",
    "\n",
    "print(\"Low median of the set is:\",statistics.median_low(set1))\n",
    "\n",
    "#Print high median of the dataset\n",
    "\n",
    "print(\"High median of the set1 is:\",statistics.median_high(set1))"
   ]
  },
  {
   "cell_type": "code",
   "execution_count": 10,
   "id": "f878cfea",
   "metadata": {},
   "outputs": [
    {
     "name": "stdout",
     "output_type": "stream",
     "text": [
      "Mode of data set 1 is 5\n",
      "Mode of data set 2 is 1.3\n",
      "Mode of data set 3 is 1/2\n",
      "Mode of data set 4 is -2\n",
      "Mode of data set 5 is black\n"
     ]
    }
   ],
   "source": [
    "#Python code to demonstrate the working of mode()\n",
    "\n",
    "from statistics import mode\n",
    "\n",
    "## Importing fractions module as fr Enables to calculate\n",
    "# harmonic_mean of set in fraction\n",
    "\n",
    "from fractions import Fraction as fr\n",
    "\n",
    "# tuple of positive integer numbers\n",
    "data1 = (2, 3, 3, 4, 5, 5, 5, 5, 6, 6, 6, 7)\n",
    "\n",
    "\n",
    "# tuple of a set of floating point values\n",
    "data2 = (2.4, 1.3, 1.3, 1.3, 2.4, 4.6)\n",
    "\n",
    "# tuple of a set of fractional numbers\n",
    "data3 = (fr(1, 2), fr(1, 2), fr(10, 3), fr(2, 3))\n",
    "\n",
    "# tuple of a set of negative integers\n",
    "data4 = (-1, -2, -2, -2, -7, -7, -9)\n",
    "\n",
    "\n",
    "# tuple of strings\n",
    "data5 = (\"red\", \"blue\", \"black\", \"blue\", \"black\", \"black\", \"brown\")\n",
    "\n",
    "\n",
    "\n",
    "# Printing out the mode of the above data-sets\n",
    "print(\"Mode of data set 1 is % s\" % (mode(data1)))\n",
    "print(\"Mode of data set 2 is % s\" % (mode(data2)))\n",
    "print(\"Mode of data set 3 is % s\" % (mode(data3)))\n",
    "print(\"Mode of data set 4 is % s\" % (mode(data4)))\n",
    "print(\"Mode of data set 5 is % s\" % (mode(data5)))"
   ]
  },
  {
   "cell_type": "markdown",
   "id": "10a8cb8b",
   "metadata": {},
   "source": [
    "## Measure of variability\n",
    "\n",
    "1.Range\n",
    "\n",
    "2.Variance\n",
    "\n",
    "3.Standard deviation"
   ]
  },
  {
   "cell_type": "markdown",
   "id": "4dd5f218",
   "metadata": {},
   "source": [
    "## Range\n",
    "\n",
    "The difference between the largest and smallest data point in our data set is known as the range. \n",
    "The range is directly proportional to the spread of data that means the bigger the range, more the spread of data and vice versa.\n"
   ]
  },
  {
   "cell_type": "markdown",
   "id": "1710a195",
   "metadata": {},
   "source": [
    "Range = Largest data value – smallest data value"
   ]
  },
  {
   "cell_type": "markdown",
   "id": "bfd04100",
   "metadata": {},
   "source": [
    "We can calculate the maximum and minimum value using the max() and min() methods respectively."
   ]
  },
  {
   "cell_type": "code",
   "execution_count": 13,
   "id": "83bc6322",
   "metadata": {},
   "outputs": [
    {
     "name": "stdout",
     "output_type": "stream",
     "text": [
      "Maximum = 5, Minimum = 1 and Range = 4\n"
     ]
    }
   ],
   "source": [
    "# Sample Data\n",
    "arr = [1,2,3,4,5]\n",
    "# Finding Max\n",
    "Maximum = max(arr)\n",
    "\n",
    "# Finding Min\n",
    "Minimum = min(arr)\n",
    "\n",
    "#Difference of Max and Min\n",
    "Range = Maximum - Minimum\n",
    "\n",
    "print(f\"Maximum = {Maximum}, Minimum = {Minimum} and Range = {Range}\")"
   ]
  },
  {
   "cell_type": "markdown",
   "id": "71917425",
   "metadata": {},
   "source": [
    "## Variance\n",
    "It is defined as an average squared deviation from the mean. It is being calculated by finding the difference between every data point and the average which is also known as the mean, squaring them, adding all of them, and then dividing by the number of data points present in our data set.\n",
    "\n",
    "\\sigma^2=\\frac{\\sum(x-\\mu^2)}{N}\n",
    "\n",
    "where N = number of terms\n",
    "\n",
    "u = Mean\n"
   ]
  },
  {
   "cell_type": "code",
   "execution_count": 14,
   "id": "c4e757bb",
   "metadata": {},
   "outputs": [
    {
     "name": "stdout",
     "output_type": "stream",
     "text": [
      "Variance of Sample1 is 15.80952380952381 \n",
      "Variance of Sample2 is 3.5 \n",
      "Variance of Sample3 is 61.125 \n",
      "Variance of Sample4 is 1/45 \n",
      "Variance of Sample5 is 0.17613000000000006 \n"
     ]
    }
   ],
   "source": [
    "## Python code to demonstrate variance()\n",
    "# function on varying range of data-types\n",
    "\n",
    "# importing statistics module\n",
    "from statistics import variance\n",
    "\n",
    "## importing fractions as parameter values\n",
    "from fractions import Fraction as fr\n",
    "\n",
    "\n",
    "# tuple of a set of positive integers\n",
    "# numbers are spread apart but not very much\n",
    "sample1 = (1, 2, 5, 4, 8, 9, 12)\n",
    " \n",
    "# tuple of a set of negative integers\n",
    "sample2 = (-2, -4, -3, -1, -5, -6)\n",
    " \n",
    "# tuple of a set of positive and negative numbers\n",
    "# data-points are spread apart considerably\n",
    "sample3 = (-9, -1, -0, 2, 1, 3, 4, 19)\n",
    " \n",
    "# tuple of a set of fractional numbers\n",
    "sample4 = (fr(1, 2), fr(2, 3), fr(3, 4),\n",
    "           fr(5, 6), fr(7, 8))\n",
    " \n",
    "# tuple of a set of floating point values\n",
    "sample5 = (1.23, 1.45, 2.1, 2.2, 1.9)\n",
    "\n",
    "\n",
    "# Print the variance of each samples\n",
    "print(\"Variance of Sample1 is % s \" % (variance(sample1)))\n",
    "print(\"Variance of Sample2 is % s \" % (variance(sample2)))\n",
    "print(\"Variance of Sample3 is % s \" % (variance(sample3)))\n",
    "print(\"Variance of Sample4 is % s \" % (variance(sample4)))\n",
    "print(\"Variance of Sample5 is % s \" % (variance(sample5)))"
   ]
  },
  {
   "cell_type": "markdown",
   "id": "788b04fb",
   "metadata": {},
   "source": [
    "## Standard Deviation\n",
    "It is defined as the square root of the variance. It is being calculated by finding the Mean, then subtract each number from the Mean which is also known as average and square the result. Adding all the values and then divide by the no of terms followed the square root.\n",
    "\n",
    "\\sigma=\\sqrt\\frac{\\sum(x-\\mu^2)}{N}\n",
    "\n",
    "where N = number of terms\n",
    "\n",
    "u = Mean"
   ]
  },
  {
   "cell_type": "code",
   "execution_count": 19,
   "id": "6131af10",
   "metadata": {},
   "outputs": [
    {
     "name": "stdout",
     "output_type": "stream",
     "text": [
      "The Standard Deviation of Sample1 is 3.9761191895520196\n",
      "The Standard Deviation of Sample2 is 1.8708286933869707\n",
      "The Standard Deviation of Sample3 is 7.8182478855559445\n",
      "The Standard Deviation of Sample4 is 0.41967844833872525\n",
      "The Standard Deviation of Sample5 is 0.14907119849998599\n"
     ]
    }
   ],
   "source": [
    "# Python code to demonstrate stdev()\n",
    "# function on various range of datasets\n",
    "\n",
    "# importing the statistics module\n",
    "from statistics import stdev\n",
    "\n",
    "# importing fractions as parameter values\n",
    "from fractions import Fraction as fr\n",
    "\n",
    "# creating a varying range of sample sets\n",
    "# numbers are spread apart but not very much\n",
    "sample1 = (1, 2, 5, 4, 8, 9, 12)\n",
    "\n",
    "# tuple of a set of negative integers\n",
    "sample2 = (-2, -4, -3, -1, -5, -6)\n",
    "\n",
    "# tuple of a set of positive and negative numbers\n",
    "# data-points are spread apart considerably\n",
    "sample3 = (-9, -1, -0, 2, 1, 3, 4, 19)\n",
    "\n",
    "# tuple of a set of floating point values\n",
    "sample4 = (1.23, 1.45, 2.1, 2.2, 1.9)\n",
    "\n",
    "# tuple of a set of fractional numbers\n",
    "sample5 = (fr(1, 2), fr(2, 3), fr(3, 4),\n",
    "           fr(5, 6), fr(7, 8))\n",
    "\n",
    "# Print the standard deviation of\n",
    "# following sample sets of observations\n",
    "print(\"The Standard Deviation of Sample1 is % s\"\n",
    "\t% (stdev(sample1)))\n",
    "\n",
    "print(\"The Standard Deviation of Sample2 is % s\"\n",
    "\t% (stdev(sample2)))\n",
    "\n",
    "print(\"The Standard Deviation of Sample3 is % s\"\n",
    "\t% (stdev(sample3)))\n",
    "\n",
    "\n",
    "print(\"The Standard Deviation of Sample4 is % s\"\n",
    "\t% (stdev(sample4)))\n",
    "print(\"The Standard Deviation of Sample5 is % s\" % (stdev(sample5)))"
   ]
  },
  {
   "cell_type": "code",
   "execution_count": null,
   "id": "8f1aeac0",
   "metadata": {},
   "outputs": [],
   "source": []
  }
 ],
 "metadata": {
  "kernelspec": {
   "display_name": "Python 3 (ipykernel)",
   "language": "python",
   "name": "python3"
  },
  "language_info": {
   "codemirror_mode": {
    "name": "ipython",
    "version": 3
   },
   "file_extension": ".py",
   "mimetype": "text/x-python",
   "name": "python",
   "nbconvert_exporter": "python",
   "pygments_lexer": "ipython3",
   "version": "3.9.7"
  }
 },
 "nbformat": 4,
 "nbformat_minor": 5
}
